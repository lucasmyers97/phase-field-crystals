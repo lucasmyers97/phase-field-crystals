{
 "cells": [
  {
   "cell_type": "code",
   "execution_count": 43,
   "id": "2c53b59b",
   "metadata": {},
   "outputs": [],
   "source": [
    "from sympy import *\n",
    "from sympy.vector import CoordSys3D, Del, divergence"
   ]
  },
  {
   "cell_type": "code",
   "execution_count": 44,
   "id": "18ae6d00",
   "metadata": {},
   "outputs": [],
   "source": [
    "N = sympy.vector.CoordSys3D('N')\n",
    "\n",
    "A0, psi0 = symbols('A_0 psi_0')\n",
    "x, y, z = symbols('x y z')"
   ]
  },
  {
   "cell_type": "code",
   "execution_count": 45,
   "id": "5fd6af2f",
   "metadata": {},
   "outputs": [],
   "source": [
    "r = N.x * N.i + N.y * N.j + N.z * N.k\n",
    "\n",
    "qn = [N.j, \n",
    "      sqrt(3)/2 * N.i - Rational(1, 2) * N.j,\n",
    "      -sqrt(3)/2 * N.i - Rational(1, 2) * N.j]"
   ]
  },
  {
   "cell_type": "code",
   "execution_count": 46,
   "id": "d66abd89",
   "metadata": {},
   "outputs": [
    {
     "data": {
      "text/latex": [
       "$\\displaystyle A_{0} \\cos{\\left(\\mathbf{{y}_{N}} \\right)} + A_{0} \\cos{\\left(\\frac{\\sqrt{3} \\mathbf{{x}_{N}}}{2} - \\frac{\\mathbf{{y}_{N}}}{2} \\right)} + A_{0} \\cos{\\left(\\frac{\\sqrt{3} \\mathbf{{x}_{N}}}{2} + \\frac{\\mathbf{{y}_{N}}}{2} \\right)} + \\psi_{0}$"
      ],
      "text/plain": [
       "A_0*cos(N.y) + A_0*cos(sqrt(3)*N.x/2 - N.y/2) + A_0*cos(sqrt(3)*N.x/2 + N.y/2) + psi_0"
      ]
     },
     "metadata": {},
     "output_type": "display_data"
    }
   ],
   "source": [
    "psi = psi0 + sum(A0 * cos(qn[i].dot(r))\n",
    "                 for i in range(3))\n",
    "display(psi)"
   ]
  },
  {
   "cell_type": "code",
   "execution_count": 47,
   "id": "82dd3eb9",
   "metadata": {},
   "outputs": [],
   "source": [
    "delop = Del()"
   ]
  },
  {
   "cell_type": "code",
   "execution_count": 48,
   "id": "4a2fd67d",
   "metadata": {},
   "outputs": [
    {
     "data": {
      "text/latex": [
       "$\\displaystyle - \\frac{3 A_{0} \\left(\\cos{\\left(\\frac{\\sqrt{3} \\mathbf{{x}_{N}}}{2} - \\frac{\\mathbf{{y}_{N}}}{2} \\right)} + \\cos{\\left(\\frac{\\sqrt{3} \\mathbf{{x}_{N}}}{2} + \\frac{\\mathbf{{y}_{N}}}{2} \\right)}\\right)}{4} - A_{0} \\left(\\cos{\\left(\\mathbf{{y}_{N}} \\right)} + \\frac{\\cos{\\left(\\frac{\\sqrt{3} \\mathbf{{x}_{N}}}{2} - \\frac{\\mathbf{{y}_{N}}}{2} \\right)}}{4} + \\frac{\\cos{\\left(\\frac{\\sqrt{3} \\mathbf{{x}_{N}}}{2} + \\frac{\\mathbf{{y}_{N}}}{2} \\right)}}{4}\\right)$"
      ],
      "text/plain": [
       "-3*A_0*(cos(sqrt(3)*N.x/2 - N.y/2) + cos(sqrt(3)*N.x/2 + N.y/2))/4 - A_0*(cos(N.y) + cos(sqrt(3)*N.x/2 - N.y/2)/4 + cos(sqrt(3)*N.x/2 + N.y/2)/4)"
      ]
     },
     "metadata": {},
     "output_type": "display_data"
    }
   ],
   "source": [
    "chi = divergence(delop.gradient(psi)).doit()\n",
    "display(chi)"
   ]
  },
  {
   "cell_type": "code",
   "execution_count": 49,
   "id": "e55897b8",
   "metadata": {},
   "outputs": [
    {
     "data": {
      "text/latex": [
       "$\\displaystyle \\frac{3 A_{0} \\left(\\cos{\\left(\\frac{\\sqrt{3} \\mathbf{{x}_{N}}}{2} - \\frac{\\mathbf{{y}_{N}}}{2} \\right)} + \\cos{\\left(\\frac{\\sqrt{3} \\mathbf{{x}_{N}}}{2} + \\frac{\\mathbf{{y}_{N}}}{2} \\right)}\\right)}{4} + A_{0} \\left(\\cos{\\left(\\mathbf{{y}_{N}} \\right)} + \\frac{\\cos{\\left(\\frac{\\sqrt{3} \\mathbf{{x}_{N}}}{2} - \\frac{\\mathbf{{y}_{N}}}{2} \\right)}}{4} + \\frac{\\cos{\\left(\\frac{\\sqrt{3} \\mathbf{{x}_{N}}}{2} + \\frac{\\mathbf{{y}_{N}}}{2} \\right)}}{4}\\right)$"
      ],
      "text/plain": [
       "3*A_0*(cos(sqrt(3)*N.x/2 - N.y/2) + cos(sqrt(3)*N.x/2 + N.y/2))/4 + A_0*(cos(N.y) + cos(sqrt(3)*N.x/2 - N.y/2)/4 + cos(sqrt(3)*N.x/2 + N.y/2)/4)"
      ]
     },
     "metadata": {},
     "output_type": "display_data"
    }
   ],
   "source": [
    "phi = divergence(delop.gradient(chi)).doit()\n",
    "display(phi)"
   ]
  },
  {
   "cell_type": "code",
   "execution_count": 50,
   "id": "87ec6551",
   "metadata": {},
   "outputs": [
    {
     "data": {
      "text/latex": [
       "$\\displaystyle 3 A_{0} \\left(- 2 \\cos{\\left(\\frac{\\mathbf{{y}_{N}}}{2} \\right)} \\cos{\\left(\\frac{\\sqrt{3} \\mathbf{{x}_{N}}}{2} \\right)} - \\cos{\\left(\\mathbf{{y}_{N}} \\right)}\\right) \\left(A_{0} \\cos{\\left(\\mathbf{{y}_{N}} \\right)} + A_{0} \\cos{\\left(\\frac{\\sqrt{3} \\mathbf{{x}_{N}}}{2} - \\frac{\\mathbf{{y}_{N}}}{2} \\right)} + A_{0} \\cos{\\left(\\frac{\\sqrt{3} \\mathbf{{x}_{N}}}{2} + \\frac{\\mathbf{{y}_{N}}}{2} \\right)} + \\psi_{0}\\right)^{2}$"
      ],
      "text/plain": [
       "3*A_0*(-2*cos(N.y/2)*cos(sqrt(3)*N.x/2) - cos(N.y))*(A_0*cos(N.y) + A_0*cos(sqrt(3)*N.x/2 - N.y/2) + A_0*cos(sqrt(3)*N.x/2 + N.y/2) + psi_0)**2"
      ]
     },
     "metadata": {},
     "output_type": "display_data"
    },
    {
     "data": {
      "text/latex": [
       "$\\displaystyle 6 A_{0}^{2} \\left(\\left(\\sin{\\left(\\frac{\\mathbf{{y}_{N}}}{2} \\right)} \\cos{\\left(\\frac{\\sqrt{3} \\mathbf{{x}_{N}}}{2} \\right)} + \\sin{\\left(\\mathbf{{y}_{N}} \\right)}\\right)^{2} + 3 \\sin^{2}{\\left(\\frac{\\sqrt{3} \\mathbf{{x}_{N}}}{2} \\right)} \\cos^{2}{\\left(\\frac{\\mathbf{{y}_{N}}}{2} \\right)}\\right) \\left(A_{0} \\cos{\\left(\\mathbf{{y}_{N}} \\right)} + A_{0} \\cos{\\left(\\frac{\\sqrt{3} \\mathbf{{x}_{N}}}{2} - \\frac{\\mathbf{{y}_{N}}}{2} \\right)} + A_{0} \\cos{\\left(\\frac{\\sqrt{3} \\mathbf{{x}_{N}}}{2} + \\frac{\\mathbf{{y}_{N}}}{2} \\right)} + \\psi_{0}\\right)$"
      ],
      "text/plain": [
       "6*A_0**2*((sin(N.y/2)*cos(sqrt(3)*N.x/2) + sin(N.y))**2 + 3*sin(sqrt(3)*N.x/2)**2*cos(N.y/2)**2)*(A_0*cos(N.y) + A_0*cos(sqrt(3)*N.x/2 - N.y/2) + A_0*cos(sqrt(3)*N.x/2 + N.y/2) + psi_0)"
      ]
     },
     "metadata": {},
     "output_type": "display_data"
    }
   ],
   "source": [
    "expr1 = simplify(3 * psi**2 * chi)\n",
    "expr2 = simplify(6 * psi * delop.gradient(psi).doit().dot(delop.gradient(psi).doit()))\n",
    "\n",
    "display(expr1, expr2)"
   ]
  },
  {
   "cell_type": "code",
   "execution_count": 52,
   "id": "871a3b07",
   "metadata": {},
   "outputs": [],
   "source": [
    "expr1 = expr1.subs({N.x: x, N.y: y})\n",
    "expr2 = expr2.subs({N.x: x, N.y: y})"
   ]
  },
  {
   "cell_type": "code",
   "execution_count": 63,
   "id": "1a615c3b",
   "metadata": {},
   "outputs": [
    {
     "data": {
      "text/plain": [
       "'3*A_0*(-2*math.cos((1/2)*y)*math.cos((1/2)*math.sqrt(3)*x) - math.cos(y))*(A_0*math.cos(y) + A_0*math.cos((1/2)*math.sqrt(3)*x - 1/2*y) + A_0*math.cos((1/2)*math.sqrt(3)*x + (1/2)*y) + psi_0)**2'"
      ]
     },
     "execution_count": 63,
     "metadata": {},
     "output_type": "execute_result"
    }
   ],
   "source": [
    "sympy.printing.pycode(expr1)"
   ]
  },
  {
   "cell_type": "code",
   "execution_count": 64,
   "id": "5b4a1f76",
   "metadata": {},
   "outputs": [
    {
     "name": "stdout",
     "output_type": "stream",
     "text": [
      "3*A_0*(-2*np.cos((1/2)*y)*np.cos((1/2)*np.sqrt(3)*x) - np.cos(y))*(A_0*np.cos(y) + A_0*np.cos((1/2)*np.sqrt(3)*x - 1/2*y) + A_0*np.cos((1/2)*np.sqrt(3)*x + (1/2)*y) + psi_0)**2\n"
     ]
    }
   ],
   "source": [
    "print('3*A_0*(-2*np.cos((1/2)*y)*np.cos((1/2)*np.sqrt(3)*x) - np.cos(y))*(A_0*np.cos(y) + A_0*np.cos((1/2)*np.sqrt(3)*x - 1/2*y) + A_0*np.cos((1/2)*np.sqrt(3)*x + (1/2)*y) + psi_0)**2')"
   ]
  },
  {
   "cell_type": "code",
   "execution_count": 54,
   "id": "8c392201",
   "metadata": {},
   "outputs": [
    {
     "data": {
      "text/plain": [
       "'6*A_0**2*((math.sin((1/2)*y)*math.cos((1/2)*sqrt(3)*x) + math.sin(y))**2 + 3*math.sin((1/2)*sqrt(3)*x)**2*math.cos((1/2)*y)**2)*(A_0*math.cos(y) + A_0*math.cos((1/2)*sqrt(3)*x - 1/2*y) + A_0*math.cos((1/2)*sqrt(3)*x + (1/2)*y) + psi_0)'"
      ]
     },
     "execution_count": 54,
     "metadata": {},
     "output_type": "execute_result"
    }
   ],
   "source": [
    "sympy.printing.lambdarepr.lambdarepr(expr2)"
   ]
  },
  {
   "cell_type": "code",
   "execution_count": 65,
   "id": "348423f7",
   "metadata": {},
   "outputs": [
    {
     "name": "stdout",
     "output_type": "stream",
     "text": [
      "6*A_0**2*((np.sin((1/2)*y)*np.cos((1/2)*np.sqrt(3)*x) + np.sin(y))**2 + 3*np.sin((1/2)*np.sqrt(3)*x)**2*np.cos((1/2)*y)**2)*(A_0*np.cos(y) + A_0*np.cos((1/2)*np.sqrt(3)*x - 1/2*y) + A_0*np.cos((1/2)*np.sqrt(3)*x + (1/2)*y) + psi_0)\n"
     ]
    }
   ],
   "source": [
    "print('6*A_0**2*((np.sin((1/2)*y)*np.cos((1/2)*np.sqrt(3)*x) + np.sin(y))**2 + 3*np.sin((1/2)*np.sqrt(3)*x)**2*np.cos((1/2)*y)**2)*(A_0*np.cos(y) + A_0*np.cos((1/2)*np.sqrt(3)*x - 1/2*y) + A_0*np.cos((1/2)*np.sqrt(3)*x + (1/2)*y) + psi_0)')"
   ]
  },
  {
   "cell_type": "code",
   "execution_count": null,
   "id": "bc748180",
   "metadata": {},
   "outputs": [],
   "source": []
  }
 ],
 "metadata": {
  "kernelspec": {
   "display_name": "Python 3 (ipykernel)",
   "language": "python",
   "name": "python3"
  },
  "language_info": {
   "codemirror_mode": {
    "name": "ipython",
    "version": 3
   },
   "file_extension": ".py",
   "mimetype": "text/x-python",
   "name": "python",
   "nbconvert_exporter": "python",
   "pygments_lexer": "ipython3",
   "version": "3.9.7"
  }
 },
 "nbformat": 4,
 "nbformat_minor": 5
}
